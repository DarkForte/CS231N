{
 "cells": [
  {
   "cell_type": "markdown",
   "metadata": {},
   "source": [
    "# Softmax exercise\n",
    "\n",
    "*Complete and hand in this completed worksheet (including its outputs and any supporting code outside of the worksheet) with your assignment submission. For more details see the [assignments page](http://vision.stanford.edu/teaching/cs231n/assignments.html) on the course website.*\n",
    "\n",
    "This exercise is analogous to the SVM exercise. You will:\n",
    "\n",
    "- implement a fully-vectorized **loss function** for the Softmax classifier\n",
    "- implement the fully-vectorized expression for its **analytic gradient**\n",
    "- **check your implementation** with numerical gradient\n",
    "- use a validation set to **tune the learning rate and regularization** strength\n",
    "- **optimize** the loss function with **SGD**\n",
    "- **visualize** the final learned weights\n"
   ]
  },
  {
   "cell_type": "code",
   "execution_count": 1,
   "metadata": {
    "collapsed": false
   },
   "outputs": [],
   "source": [
    "import random\n",
    "import numpy as np\n",
    "from cs231n.data_utils import load_CIFAR10\n",
    "import matplotlib.pyplot as plt\n",
    "%matplotlib inline\n",
    "plt.rcParams['figure.figsize'] = (10.0, 8.0) # set default size of plots\n",
    "plt.rcParams['image.interpolation'] = 'nearest'\n",
    "plt.rcParams['image.cmap'] = 'gray'\n",
    "\n",
    "# for auto-reloading extenrnal modules\n",
    "# see http://stackoverflow.com/questions/1907993/autoreload-of-modules-in-ipython\n",
    "%load_ext autoreload\n",
    "%autoreload 2"
   ]
  },
  {
   "cell_type": "code",
   "execution_count": 2,
   "metadata": {
    "collapsed": false
   },
   "outputs": [
    {
     "name": "stdout",
     "output_type": "stream",
     "text": [
      "Train data shape:  (49000L, 3073L)\n",
      "Train labels shape:  (49000L,)\n",
      "Validation data shape:  (1000L, 3073L)\n",
      "Validation labels shape:  (1000L,)\n",
      "Test data shape:  (1000L, 3073L)\n",
      "Test labels shape:  (1000L,)\n",
      "dev data shape:  (500L, 3073L)\n",
      "dev labels shape:  (500L,)\n"
     ]
    }
   ],
   "source": [
    "def get_CIFAR10_data(num_training=49000, num_validation=1000, num_test=1000, num_dev=500):\n",
    "  \"\"\"\n",
    "  Load the CIFAR-10 dataset from disk and perform preprocessing to prepare\n",
    "  it for the linear classifier. These are the same steps as we used for the\n",
    "  SVM, but condensed to a single function.  \n",
    "  \"\"\"\n",
    "  # Load the raw CIFAR-10 data\n",
    "  cifar10_dir = 'cs231n/datasets/cifar-10-batches-py'\n",
    "  X_train, y_train, X_test, y_test = load_CIFAR10(cifar10_dir)\n",
    "  \n",
    "  # subsample the data\n",
    "  mask = range(num_training, num_training + num_validation)\n",
    "  X_val = X_train[mask]\n",
    "  y_val = y_train[mask]\n",
    "  mask = range(num_training)\n",
    "  X_train = X_train[mask]\n",
    "  y_train = y_train[mask]\n",
    "  mask = range(num_test)\n",
    "  X_test = X_test[mask]\n",
    "  y_test = y_test[mask]\n",
    "  mask = np.random.choice(num_training, num_dev, replace=False)\n",
    "  X_dev = X_train[mask]\n",
    "  y_dev = y_train[mask]\n",
    "  \n",
    "  # Preprocessing: reshape the image data into rows\n",
    "  X_train = np.reshape(X_train, (X_train.shape[0], -1))\n",
    "  X_val = np.reshape(X_val, (X_val.shape[0], -1))\n",
    "  X_test = np.reshape(X_test, (X_test.shape[0], -1))\n",
    "  X_dev = np.reshape(X_dev, (X_dev.shape[0], -1))\n",
    "  \n",
    "  # Normalize the data: subtract the mean image\n",
    "  mean_image = np.mean(X_train, axis = 0)\n",
    "  X_train -= mean_image\n",
    "  X_val -= mean_image\n",
    "  X_test -= mean_image\n",
    "  X_dev -= mean_image\n",
    "  \n",
    "  # add bias dimension and transform into columns\n",
    "  X_train = np.hstack([X_train, np.ones((X_train.shape[0], 1))])\n",
    "  X_val = np.hstack([X_val, np.ones((X_val.shape[0], 1))])\n",
    "  X_test = np.hstack([X_test, np.ones((X_test.shape[0], 1))])\n",
    "  X_dev = np.hstack([X_dev, np.ones((X_dev.shape[0], 1))])\n",
    "  \n",
    "  return X_train, y_train, X_val, y_val, X_test, y_test, X_dev, y_dev\n",
    "\n",
    "\n",
    "# Invoke the above function to get our data.\n",
    "X_train, y_train, X_val, y_val, X_test, y_test, X_dev, y_dev = get_CIFAR10_data()\n",
    "print 'Train data shape: ', X_train.shape\n",
    "print 'Train labels shape: ', y_train.shape\n",
    "print 'Validation data shape: ', X_val.shape\n",
    "print 'Validation labels shape: ', y_val.shape\n",
    "print 'Test data shape: ', X_test.shape\n",
    "print 'Test labels shape: ', y_test.shape\n",
    "print 'dev data shape: ', X_dev.shape\n",
    "print 'dev labels shape: ', y_dev.shape"
   ]
  },
  {
   "cell_type": "markdown",
   "metadata": {},
   "source": [
    "## Softmax Classifier\n",
    "\n",
    "Your code for this section will all be written inside **cs231n/classifiers/softmax.py**. \n"
   ]
  },
  {
   "cell_type": "code",
   "execution_count": 49,
   "metadata": {
    "collapsed": false
   },
   "outputs": [
    {
     "name": "stdout",
     "output_type": "stream",
     "text": [
      "loss: 2.339795\n",
      "sanity check: 2.302585\n"
     ]
    }
   ],
   "source": [
    "# First implement the naive softmax loss function with nested loops.\n",
    "# Open the file cs231n/classifiers/softmax.py and implement the\n",
    "# softmax_loss_naive function.\n",
    "\n",
    "from cs231n.classifiers.softmax import softmax_loss_naive\n",
    "import time\n",
    "\n",
    "# Generate a random softmax weight matrix and use it to compute the loss.\n",
    "W = np.random.randn(3073, 10) * 0.0001\n",
    "loss, grad = softmax_loss_naive(W, X_dev, y_dev, 0.0)\n",
    "\n",
    "# As a rough sanity check, our loss should be something close to -log(0.1).\n",
    "print 'loss: %f' % loss\n",
    "print 'sanity check: %f' % (-np.log(0.1))"
   ]
  },
  {
   "cell_type": "markdown",
   "metadata": {},
   "source": [
    "## Inline Question 1:\n",
    "Why do we expect our loss to be close to -log(0.1)? Explain briefly.**\n",
    "\n",
    "**Your answer:** Because it would act like a dummy classifier which predicts complete randomly, since there are 10 classes, the expected accuracy is 1/10.\n"
   ]
  },
  {
   "cell_type": "code",
   "execution_count": 50,
   "metadata": {
    "collapsed": false
   },
   "outputs": [
    {
     "name": "stdout",
     "output_type": "stream",
     "text": [
      "numerical: -2.564555 analytic: -2.564555, relative error: 4.677437e-09\n",
      "numerical: 2.126707 analytic: 2.126707, relative error: 2.582202e-08\n",
      "numerical: -1.019459 analytic: -1.019459, relative error: 1.692465e-10\n",
      "numerical: -2.812885 analytic: -2.812885, relative error: 2.435712e-08\n",
      "numerical: -3.427005 analytic: -3.427005, relative error: 1.556303e-08\n",
      "numerical: -1.525422 analytic: -1.525422, relative error: 1.134883e-10\n",
      "numerical: 0.336863 analytic: 0.336863, relative error: 1.456650e-07\n",
      "numerical: 0.781902 analytic: 0.781902, relative error: 7.695419e-08\n",
      "numerical: 2.771363 analytic: 2.771363, relative error: 1.151886e-08\n",
      "numerical: 1.194557 analytic: 1.194557, relative error: 4.541121e-08\n",
      "numerical: -1.361888 analytic: -1.361888, relative error: 1.205572e-08\n",
      "numerical: -3.477101 analytic: -3.477101, relative error: 1.142866e-08\n",
      "numerical: -4.377036 analytic: -4.377036, relative error: 6.618523e-09\n",
      "numerical: 2.462420 analytic: 2.462420, relative error: 7.277915e-09\n",
      "numerical: -3.689107 analytic: -3.689107, relative error: 5.723987e-10\n",
      "numerical: -2.029504 analytic: -2.029504, relative error: 1.832161e-08\n",
      "numerical: -1.248048 analytic: -1.248048, relative error: 7.166784e-08\n",
      "numerical: -0.051022 analytic: -0.051022, relative error: 5.069845e-07\n",
      "numerical: 1.399887 analytic: 1.399887, relative error: 3.435762e-08\n",
      "numerical: -1.173172 analytic: -1.173172, relative error: 3.664031e-08\n"
     ]
    }
   ],
   "source": [
    "# Complete the implementation of softmax_loss_naive and implement a (naive)\n",
    "# version of the gradient that uses nested loops.\n",
    "loss, grad = softmax_loss_naive(W, X_dev, y_dev, 0.0)\n",
    "\n",
    "# As we did for the SVM, use numeric gradient checking as a debugging tool.\n",
    "# The numeric gradient should be close to the analytic gradient.\n",
    "from cs231n.gradient_check import grad_check_sparse\n",
    "f = lambda w: softmax_loss_naive(w, X_dev, y_dev, 0.0)[0]\n",
    "grad_numerical = grad_check_sparse(f, W, grad, 10)\n",
    "\n",
    "# similar to SVM case, do another gradient check with regularization\n",
    "loss, grad = softmax_loss_naive(W, X_dev, y_dev, 1e2)\n",
    "f = lambda w: softmax_loss_naive(w, X_dev, y_dev, 1e2)[0]\n",
    "grad_numerical = grad_check_sparse(f, W, grad, 10)"
   ]
  },
  {
   "cell_type": "code",
   "execution_count": 51,
   "metadata": {
    "collapsed": false
   },
   "outputs": [
    {
     "name": "stdout",
     "output_type": "stream",
     "text": [
      "naive loss: 2.339795e+00 computed in 0.110000s\n",
      "vectorized loss: 2.339795e+00 computed in 0.003000s\n",
      "Loss difference: 0.000000\n",
      "Gradient difference: 0.000000\n"
     ]
    }
   ],
   "source": [
    "# Now that we have a naive implementation of the softmax loss function and its gradient,\n",
    "# implement a vectorized version in softmax_loss_vectorized.\n",
    "# The two versions should compute the same results, but the vectorized version should be\n",
    "# much faster.\n",
    "tic = time.time()\n",
    "loss_naive, grad_naive = softmax_loss_naive(W, X_dev, y_dev, 0.00001)\n",
    "toc = time.time()\n",
    "print 'naive loss: %e computed in %fs' % (loss_naive, toc - tic)\n",
    "\n",
    "from cs231n.classifiers.softmax import softmax_loss_vectorized\n",
    "tic = time.time()\n",
    "loss_vectorized, grad_vectorized = softmax_loss_vectorized(W, X_dev, y_dev, 0.00001)\n",
    "toc = time.time()\n",
    "print 'vectorized loss: %e computed in %fs' % (loss_vectorized, toc - tic)\n",
    "\n",
    "# As we did for the SVM, we use the Frobenius norm to compare the two versions\n",
    "# of the gradient.\n",
    "grad_difference = np.linalg.norm(grad_naive - grad_vectorized, ord='fro')\n",
    "print 'Loss difference: %f' % np.abs(loss_naive - loss_vectorized)\n",
    "print 'Gradient difference: %f' % grad_difference"
   ]
  },
  {
   "cell_type": "code",
   "execution_count": 53,
   "metadata": {
    "collapsed": false
   },
   "outputs": [
    {
     "name": "stdout",
     "output_type": "stream",
     "text": [
      "iteration 0 / 500: loss 158.230941\n",
      "iteration 100 / 500: loss 128.629344\n",
      "iteration 200 / 500: loss 105.285344\n",
      "iteration 300 / 500: loss 86.295747\n",
      "iteration 400 / 500: loss 70.873436\n",
      "iteration 0 / 500: loss 771.978368\n",
      "iteration 100 / 500: loss 283.384510\n",
      "iteration 200 / 500: loss 105.067109\n",
      "iteration 300 / 500: loss 39.753343\n",
      "iteration 400 / 500: loss 15.881666\n",
      "iteration 0 / 500: loss 1544.812400\n",
      "iteration 100 / 500: loss 207.879476\n",
      "iteration 200 / 500: loss 29.598374\n",
      "iteration 300 / 500: loss 5.825794\n",
      "iteration 400 / 500: loss 2.584105\n",
      "iteration 0 / 500: loss 159.437585\n",
      "iteration 100 / 500: loss 86.203914\n",
      "iteration 200 / 500: loss 47.792401\n",
      "iteration 300 / 500: loss 27.018939\n",
      "iteration 400 / 500: loss 15.550396\n",
      "iteration 0 / 500: loss 781.331127\n",
      "iteration 100 / 500: loss 39.696527\n",
      "iteration 200 / 500: loss 3.910100\n",
      "iteration 300 / 500: loss 2.183381\n",
      "iteration 400 / 500: loss 2.059005\n",
      "iteration 0 / 500: loss 1528.775854\n",
      "iteration 100 / 500: loss 5.567600\n",
      "iteration 200 / 500: loss 2.136182\n",
      "iteration 300 / 500: loss 2.161336\n",
      "iteration 400 / 500: loss 2.120113\n",
      "iteration 0 / 500: loss 156.986340\n",
      "iteration 100 / 500: loss 57.300314\n",
      "iteration 200 / 500: loss 22.035352\n",
      "iteration 300 / 500: loss 9.351723\n",
      "iteration 400 / 500: loss 4.600436\n",
      "iteration 0 / 500: loss 767.911661\n",
      "iteration 100 / 500: loss 6.831647\n",
      "iteration 200 / 500: loss 2.202775\n",
      "iteration 300 / 500: loss 2.121423\n",
      "iteration 400 / 500: loss 2.131004\n",
      "iteration 0 / 500: loss 1544.680488\n",
      "iteration 100 / 500: loss 2.246915\n",
      "iteration 200 / 500: loss 2.116302\n",
      "iteration 300 / 500: loss 2.152192\n",
      "iteration 400 / 500: loss 2.150723\n",
      "lr 1.000000e-07 reg 1.000000e+04 train accuracy: 0.217612 val accuracy: 0.230000\n",
      "lr 1.000000e-07 reg 5.000000e+04 train accuracy: 0.311000 val accuracy: 0.309000\n",
      "lr 1.000000e-07 reg 1.000000e+05 train accuracy: 0.308878 val accuracy: 0.329000\n",
      "lr 3.000000e-07 reg 1.000000e+04 train accuracy: 0.328041 val accuracy: 0.322000\n",
      "lr 3.000000e-07 reg 5.000000e+04 train accuracy: 0.330653 val accuracy: 0.341000\n",
      "lr 3.000000e-07 reg 1.000000e+05 train accuracy: 0.309388 val accuracy: 0.321000\n",
      "lr 5.000000e-07 reg 1.000000e+04 train accuracy: 0.367041 val accuracy: 0.379000\n",
      "lr 5.000000e-07 reg 5.000000e+04 train accuracy: 0.329020 val accuracy: 0.340000\n",
      "lr 5.000000e-07 reg 1.000000e+05 train accuracy: 0.305122 val accuracy: 0.331000\n",
      "best validation accuracy achieved during cross-validation: 0.380000\n"
     ]
    }
   ],
   "source": [
    "# Use the validation set to tune hyperparameters (regularization strength and\n",
    "# learning rate). You should experiment with different ranges for the learning\n",
    "# rates and regularization strengths; if you are careful you should be able to\n",
    "# get a classification accuracy of over 0.35 on the validation set.\n",
    "from cs231n.classifiers import Softmax\n",
    "results = {}\n",
    "best_val = -1\n",
    "best_softmax = None\n",
    "learning_rates = [1e-7, 3e-7, 5e-7]\n",
    "regularization_strengths = [1e4, 5e4, 1e5]\n",
    "\n",
    "################################################################################\n",
    "# TODO:                                                                        #\n",
    "# Use the validation set to set the learning rate and regularization strength. #\n",
    "# This should be identical to the validation that you did for the SVM; save    #\n",
    "# the best trained softmax classifer in best_softmax.                          #\n",
    "################################################################################\n",
    "\n",
    "best_rate, best_reg = None, None\n",
    "\n",
    "for rate in learning_rates:\n",
    "    for reg in regularization_strengths:\n",
    "        classifier = Softmax()\n",
    "        classifier.train(X_train, y_train, learning_rate = rate, reg = reg, num_iters=500, verbose=True)\n",
    "        y_train_predict = classifier.predict(X_train)\n",
    "        train_acc = np.mean(y_train_predict == y_train)\n",
    "        \n",
    "        y_val_predict = classifier.predict(X_val)\n",
    "        val_acc = np.mean(y_val_predict == y_val)\n",
    "        results[(rate, reg)] = (train_acc, val_acc)\n",
    "        if(val_acc > best_val):\n",
    "            best_val = val_acc\n",
    "            best_rate, best_reg = rate, reg\n",
    "\n",
    "best_softmax = Softmax()\n",
    "best_softmax.train(X_train, y_train, learning_rate = best_rate, reg = best_reg, num_iters=2000)\n",
    "y_predict = best_softmax.predict(X_val)\n",
    "best_val = np.mean(y_predict == y_val)\n",
    "\n",
    "################################################################################\n",
    "#                              END OF YOUR CODE                                #\n",
    "################################################################################\n",
    "    \n",
    "# Print out results.\n",
    "for lr, reg in sorted(results):\n",
    "    train_accuracy, val_accuracy = results[(lr, reg)]\n",
    "    print 'lr %e reg %e train accuracy: %f val accuracy: %f' % (\n",
    "                lr, reg, train_accuracy, val_accuracy)\n",
    "    \n",
    "print 'best validation accuracy achieved during cross-validation: %f' % best_val"
   ]
  },
  {
   "cell_type": "code",
   "execution_count": 54,
   "metadata": {
    "collapsed": false
   },
   "outputs": [
    {
     "name": "stdout",
     "output_type": "stream",
     "text": [
      "softmax on raw pixels final test set accuracy: 0.373000\n"
     ]
    }
   ],
   "source": [
    "# evaluate on test set\n",
    "# Evaluate the best softmax on test set\n",
    "y_test_pred = best_softmax.predict(X_test)\n",
    "test_accuracy = np.mean(y_test == y_test_pred)\n",
    "print 'softmax on raw pixels final test set accuracy: %f' % (test_accuracy, )"
   ]
  },
  {
   "cell_type": "code",
   "execution_count": 55,
   "metadata": {
    "collapsed": false
   },
   "outputs": [
    {
     "data": {
      "image/png": "[encoded data removed]",
      "text/plain": [
       "<matplotlib.figure.Figure at 0x89d44a8>"
      ]
     },
     "metadata": {},
     "output_type": "display_data"
    }
   ],
   "source": [
    "# Visualize the learned weights for each class\n",
    "w = best_softmax.W[:-1,:] # strip out the bias\n",
    "w = w.reshape(32, 32, 3, 10)\n",
    "\n",
    "w_min, w_max = np.min(w), np.max(w)\n",
    "\n",
    "classes = ['plane', 'car', 'bird', 'cat', 'deer', 'dog', 'frog', 'horse', 'ship', 'truck']\n",
    "for i in xrange(10):\n",
    "  plt.subplot(2, 5, i + 1)\n",
    "  \n",
    "  # Rescale the weights to be between 0 and 255\n",
    "  wimg = 255.0 * (w[:, :, :, i].squeeze() - w_min) / (w_max - w_min)\n",
    "  plt.imshow(wimg.astype('uint8'))\n",
    "  plt.axis('off')\n",
    "  plt.title(classes[i])"
   ]
  }
 ],
 "metadata": {
  "anaconda-cloud": {},
  "kernelspec": {
   "display_name": "Python [default]",
   "language": "python",
   "name": "python2"
  },
  "language_info": {
   "codemirror_mode": {
    "name": "ipython",
    "version": 2
   },
   "file_extension": ".py",
   "mimetype": "text/x-python",
   "name": "python",
   "nbconvert_exporter": "python",
   "pygments_lexer": "ipython2",
   "version": "2.7.12"
  }
 },
 "nbformat": 4,
 "nbformat_minor": 0
}
